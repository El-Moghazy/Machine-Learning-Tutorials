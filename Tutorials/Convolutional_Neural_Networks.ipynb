{
  "nbformat": 4,
  "nbformat_minor": 0,
  "metadata": {
    "colab": {
      "name": "Convolutional Neural Networks.ipynb",
      "version": "0.3.2",
      "provenance": [],
      "collapsed_sections": []
    },
    "kernelspec": {
      "name": "python3",
      "display_name": "Python 3"
    },
    "accelerator": "GPU"
  },
  "cells": [
    {
      "metadata": {
        "id": "axI4u1EkzGmT",
        "colab_type": "text"
      },
      "cell_type": "markdown",
      "source": [
        "#Convolutional Neural Networks\n",
        "\n",
        "---\n",
        "\n",
        "\n",
        "##In this tutorial I will be using Keras with TensorFlow as backend to calssify digits from the MNIST Dataset"
      ]
    },
    {
      "metadata": {
        "id": "Dd3EpSgL1Kr7",
        "colab_type": "text"
      },
      "cell_type": "markdown",
      "source": [
        "First you need to install Keras using the following lines"
      ]
    },
    {
      "metadata": {
        "id": "JljUcsGh4k6Y",
        "colab_type": "code",
        "colab": {
          "base_uri": "https://localhost:8080/",
          "height": 35
        },
        "outputId": "b610801b-a1e8-483d-e61d-e27a6b327c8c"
      },
      "cell_type": "code",
      "source": [
        "import tensorflow as tf\n",
        "tf.test.gpu_device_name()"
      ],
      "execution_count": 2,
      "outputs": [
        {
          "output_type": "execute_result",
          "data": {
            "text/plain": [
              "'/device:GPU:0'"
            ]
          },
          "metadata": {
            "tags": []
          },
          "execution_count": 2
        }
      ]
    },
    {
      "metadata": {
        "id": "HV9b4yun0vPq",
        "colab_type": "code",
        "colab": {
          "base_uri": "https://localhost:8080/",
          "height": 35
        },
        "outputId": "c5908d23-cc55-4a20-d350-c5681e4d0b1c"
      },
      "cell_type": "code",
      "source": [
        "# https://keras.io/\n",
        "!pip install -q keras\n",
        "import keras"
      ],
      "execution_count": 3,
      "outputs": [
        {
          "output_type": "stream",
          "text": [
            "Using TensorFlow backend.\n"
          ],
          "name": "stderr"
        }
      ]
    },
    {
      "metadata": {
        "id": "3icmSjgt1VLP",
        "colab_type": "text"
      },
      "cell_type": "markdown",
      "source": [
        "Then import Keras and all the layers and libraries we need"
      ]
    },
    {
      "metadata": {
        "id": "96_Dh7GYzFwv",
        "colab_type": "code",
        "colab": {}
      },
      "cell_type": "code",
      "source": [
        "import numpy\n",
        "from keras import backend as K\n",
        "from keras.datasets import mnist\n",
        "from keras.utils import np_utils"
      ],
      "execution_count": 0,
      "outputs": []
    },
    {
      "metadata": {
        "id": "E5tzF9kr10GX",
        "colab_type": "text"
      },
      "cell_type": "markdown",
      "source": [
        "We then import the layers of the convolutional neural network.The network consists of two main components :\n",
        "\n",
        "1. Convolutional layers : the convolutional layer is responsible for the convolutional operation in which feature maps identifies features in the images.\n",
        "and is usually followed by two types of layers which are :\n",
        ">*   **Dropout** : Dropout is a regulization technique where you turn off part of the network's layers randomally to increase regulization and hense decrease overfitting. We use when the training set accuracy is muuch higher than the test set accuracy.\n",
        ">*   **Max Pooling** : The maximum output in a rectangular neighbourhood. It is used to make the network more flexible to slight changes and decrease the network computationl expenses by extracting the group of pixels that are highly contributing to each feature in the feature maps in the layer.\n",
        "2. Dense layers : The dense layer is a fully connected layer that comes after the convolutional layers and they give us the output vector of the Network.\n",
        "\n",
        "As a convention in Convolutional Neural Network we decrease the dimensions of the layers as we go deeper and increase the number of feature maps to make it detect more features and decrease the number of computational cost.\n",
        "\n",
        "![alt text](https://raw.githubusercontent.com/MoghazyCoder/Machine-Learning-Tutorials/master/assets/Untitled.png)\n",
        "\n",
        " "
      ]
    },
    {
      "metadata": {
        "id": "EfQa_UJZ5wsR",
        "colab_type": "code",
        "colab": {}
      },
      "cell_type": "code",
      "source": [
        "from keras.layers import Dense, Dropout,Flatten\n",
        "from keras.layers.convolutional import Conv2D, MaxPooling2D"
      ],
      "execution_count": 0,
      "outputs": []
    },
    {
      "metadata": {
        "id": "nlAMFOZO9feO",
        "colab_type": "text"
      },
      "cell_type": "markdown",
      "source": [
        "Sequential layers are stacked such that every layer passes its output to the next layer without you specifying extra information so we import Sequential from models"
      ]
    },
    {
      "metadata": {
        "id": "T71utABW92J8",
        "colab_type": "code",
        "colab": {}
      },
      "cell_type": "code",
      "source": [
        "from keras.models import Sequential\n",
        "model = Sequential()"
      ],
      "execution_count": 0,
      "outputs": []
    },
    {
      "metadata": {
        "id": "ja6xaTVOELGP",
        "colab_type": "text"
      },
      "cell_type": "markdown",
      "source": [
        "We must specify which data format convention Keras will follow using the following line of code. Keras can accept the number of channels before other dimensions or after it but here we have to specify which convention we will use. We will use channels last which is Tensorflow's convention ."
      ]
    },
    {
      "metadata": {
        "id": "rox3yL-4EaQ7",
        "colab_type": "text"
      },
      "cell_type": "markdown",
      "source": [
        ""
      ]
    },
    {
      "metadata": {
        "id": "_zASxWJTEJGr",
        "colab_type": "code",
        "colab": {}
      },
      "cell_type": "code",
      "source": [
        "K.set_image_data_format('channels_last')\n",
        "numpy.random.seed(0)"
      ],
      "execution_count": 0,
      "outputs": []
    },
    {
      "metadata": {
        "id": "DBqW5EfhZ9q1",
        "colab_type": "text"
      },
      "cell_type": "markdown",
      "source": [
        "We should call mnist.load_data() which contains the mnist Dataset of 60,000 28x28 grayscale images of the 10 digits, along with a test set of 10,000 images.  when we call mnist.load_data() it returns two tuples one for the training set containing the images and their corresponding lables and another one for the test set."
      ]
    },
    {
      "metadata": {
        "id": "hAEk70qRbUs8",
        "colab_type": "code",
        "colab": {
          "base_uri": "https://localhost:8080/",
          "height": 53
        },
        "outputId": "f8cbacdc-ce37-497f-8289-9121fe167917"
      },
      "cell_type": "code",
      "source": [
        "(X_train, y_train), (X_test, y_test) = mnist.load_data()"
      ],
      "execution_count": 8,
      "outputs": [
        {
          "output_type": "stream",
          "text": [
            "Downloading data from https://s3.amazonaws.com/img-datasets/mnist.npz\n",
            "11493376/11490434 [==============================] - 1s 0us/step\n"
          ],
          "name": "stdout"
        }
      ]
    },
    {
      "metadata": {
        "id": "JDA0JlAMdIGs",
        "colab_type": "text"
      },
      "cell_type": "markdown",
      "source": [
        "We then reshape the samples according to TensorFlow convention which we chosed previously using \"K.set_image_data_format('channels_last')\" samples,rows,columns,channels as we are using channels_last if you are using channels_first you will need to change the order to samples,channels,rows,column and here we have only one channel because we are using the image in grayscale not RGB."
      ]
    },
    {
      "metadata": {
        "id": "Ja_ksnoldSBI",
        "colab_type": "code",
        "colab": {}
      },
      "cell_type": "code",
      "source": [
        "X_train = X_train.reshape(X_train.shape[0], 28, 28 , 1).astype('float32')\n",
        "X_test = X_test.reshape(X_test.shape[0], 28, 28 , 1).astype('float32')"
      ],
      "execution_count": 0,
      "outputs": []
    },
    {
      "metadata": {
        "id": "WxffE-VjhUIs",
        "colab_type": "text"
      },
      "cell_type": "markdown",
      "source": [
        "To increase the efficiency and the convergence of the algorithm we normalize the data based on the fact that the pixels' maximum value is 255 so we divide all the pixels by 255 to obtain results between 0 and 1."
      ]
    },
    {
      "metadata": {
        "id": "-uzfXJYohzj5",
        "colab_type": "code",
        "colab": {}
      },
      "cell_type": "code",
      "source": [
        "X_train = X_train / 255\n",
        "X_test2 = X_test / 255"
      ],
      "execution_count": 0,
      "outputs": []
    },
    {
      "metadata": {
        "id": "nKwkWjk0iAba",
        "colab_type": "text"
      },
      "cell_type": "markdown",
      "source": [
        "Making the output in the form of one vs all (aka one hot encoding) which means that we will have 10 calsses from 0 to 9 one class for each number from 0 to 9\n"
      ]
    },
    {
      "metadata": {
        "id": "_z58ybtgiA6I",
        "colab_type": "code",
        "colab": {}
      },
      "cell_type": "code",
      "source": [
        "y_train = np_utils.to_categorical(y_train)\n",
        "y_test = np_utils.to_categorical(y_test)"
      ],
      "execution_count": 0,
      "outputs": []
    },
    {
      "metadata": {
        "id": "dr-O3FdEjZMG",
        "colab_type": "text"
      },
      "cell_type": "markdown",
      "source": [
        "Now lets implement the first layer of the convolutional network as shown in the schema below .\n",
        "![alt text](https://raw.githubusercontent.com/MoghazyCoder/Machine-Learning-Tutorials/master/assets/Layer.png)\n",
        "For the sequential model you just stack the layers and only specify the image input dimensions in the first layer.\n",
        "Our first layer will be a convolutional layer Conv2D() where we specify the number of feature maps , the input shape and the activation function which is here relu .The relu activation function is represented mathematically by max(0,X).\n",
        "We then add the max pooling layer (which is the most common kind of pooling) with a kernel of dimensions 2 * 2 .\n"
      ]
    },
    {
      "metadata": {
        "id": "SHZ0G1fykEPM",
        "colab_type": "code",
        "colab": {}
      },
      "cell_type": "code",
      "source": [
        "model.add(Conv2D(30, (5, 5), input_shape=( 28, 28 , 1), activation='relu'))\n",
        "model.add(MaxPooling2D(pool_size=(2, 2)))"
      ],
      "execution_count": 0,
      "outputs": []
    },
    {
      "metadata": {
        "id": "Jnn9RQ92lh7L",
        "colab_type": "text"
      },
      "cell_type": "markdown",
      "source": [
        "Lets add the 2nd layer but this time we increase the feature maps ."
      ]
    },
    {
      "metadata": {
        "id": "FCNLJgn5liic",
        "colab_type": "code",
        "colab": {}
      },
      "cell_type": "code",
      "source": [
        "model.add(Conv2D(70, (3, 3), activation='relu'))\n",
        "model.add(MaxPooling2D(pool_size=(2, 2)))"
      ],
      "execution_count": 0,
      "outputs": []
    },
    {
      "metadata": {
        "id": "7Zd7f3cel8A5",
        "colab_type": "text"
      },
      "cell_type": "markdown",
      "source": [
        "Now we add a flatten layer that takes the output of the CNN and flattens it and passes it as an input to the Dense Layers which passes it to the output layer.\n",
        "we have used number of classes = 10 because we have 10 numbers from 0 to 9 .\n",
        "every dense layer contains 300 neurons except for the output layer.\n",
        "We use Softmax with the output layer to output estimated probability vector for  multi-class classification ."
      ]
    },
    {
      "metadata": {
        "id": "lieaM8XWl8kX",
        "colab_type": "code",
        "colab": {}
      },
      "cell_type": "code",
      "source": [
        "num_classes = 10\n",
        "model.add(Flatten())\n",
        "model.add(Dense(100, activation='relu'))\n",
        "model.add(Dense(num_classes, activation='softmax'))"
      ],
      "execution_count": 0,
      "outputs": []
    },
    {
      "metadata": {
        "id": "l5wJGng0p6-B",
        "colab_type": "text"
      },
      "cell_type": "markdown",
      "source": [
        "We have to compile the model and then try training it using the fit() function which fits the training data and labels , the number of epochs and the batch_size which is the number of photos per training cycle.\n",
        "The last thing that we are going to do is to evaluate the model to ensure that it doesn't overfit the trainig data .Evaluating the model is done by using the weights that resulted from the training step and using it to estimate the value of the test data that the model haven't seen before to estimate how well the model will perform in the future on new data.\n",
        "\n",
        "if you are using cross-validation split then the convention is to split the data by 60% training set , 20% validation set and 20% test set but in the era of big data this ratio may vary according to the amount of data you have."
      ]
    },
    {
      "metadata": {
        "id": "96_UW0g1hMDF",
        "colab_type": "text"
      },
      "cell_type": "markdown",
      "source": [
        "We have used categorical_crossentropy as the cost function for that model but what does we mean by **cost function**\n",
        "\n",
        "####Cost function : It is a measure of the overall loss in our network after assigning values to the parameters during the forward phase so it indicates how well the parameters were chosen during the forward probagation phase.\n",
        "\n",
        "#### Optimizer : It is the gradiant descent algorithm that is used. We use it to minimize the cost function to approach the minimum point. We are using adam optimizer which is one of the best gradient descent algorithms. You can refere to this paper to know how it works https://arxiv.org/abs/1412.6980v8\n",
        "\n",
        "You can use other metrics to measure the performance other than accuracy as precision or recall or F1 score. the choice depends on the problem itself. Where high recall means low number of false negatives , High precision means low number of false positives and     F1 score is a trade off between them. You can refere to this article for more about precision and recall http://scikit-learn.org/stable/auto_examples/model_selection/plot_precision_recall.html"
      ]
    },
    {
      "metadata": {
        "id": "XhwUKUarp80w",
        "colab_type": "code",
        "colab": {
          "base_uri": "https://localhost:8080/",
          "height": 390
        },
        "outputId": "c98dd60e-81ed-4a6a-aa9d-05bc57b88dd3"
      },
      "cell_type": "code",
      "source": [
        "model.compile(loss='categorical_crossentropy', optimizer='adam', metrics=['accuracy'])\n",
        "\n",
        "model.fit(X_train, y_train, epochs= 10, batch_size=200)\n",
        "\n",
        "scores = model.evaluate(X_test, y_test, verbose = 10)\n",
        "\n",
        "print ( scores )\n"
      ],
      "execution_count": 15,
      "outputs": [
        {
          "output_type": "stream",
          "text": [
            "Epoch 1/10\n",
            "60000/60000 [==============================] - 6s 98us/step - loss: 0.2590 - acc: 0.9268\n",
            "Epoch 2/10\n",
            "60000/60000 [==============================] - 5s 80us/step - loss: 0.0604 - acc: 0.9819\n",
            "Epoch 3/10\n",
            "60000/60000 [==============================] - 5s 79us/step - loss: 0.0427 - acc: 0.9872\n",
            "Epoch 4/10\n",
            "60000/60000 [==============================] - 5s 80us/step - loss: 0.0346 - acc: 0.9891\n",
            "Epoch 5/10\n",
            "32400/60000 [===============>..............] - ETA: 2s - loss: 0.0244 - acc: 0.9924"
          ],
          "name": "stdout"
        },
        {
          "output_type": "stream",
          "text": [
            "60000/60000 [==============================] - 5s 80us/step - loss: 0.0271 - acc: 0.9915\n",
            "Epoch 6/10\n",
            "60000/60000 [==============================] - 5s 80us/step - loss: 0.0225 - acc: 0.9930\n",
            "Epoch 7/10\n",
            "60000/60000 [==============================] - 5s 79us/step - loss: 0.0185 - acc: 0.9939\n",
            "Epoch 8/10\n",
            "60000/60000 [==============================] - 5s 81us/step - loss: 0.0160 - acc: 0.9950\n",
            "Epoch 9/10\n",
            "42600/60000 [====================>.........] - ETA: 1s - loss: 0.0128 - acc: 0.9958"
          ],
          "name": "stdout"
        },
        {
          "output_type": "stream",
          "text": [
            "60000/60000 [==============================] - 5s 80us/step - loss: 0.0135 - acc: 0.9955\n",
            "Epoch 10/10\n",
            "60000/60000 [==============================] - 5s 80us/step - loss: 0.0112 - acc: 0.9965\n",
            "[0.15110242691041123, 0.9904]\n"
          ],
          "name": "stdout"
        }
      ]
    },
    {
      "metadata": {
        "id": "NYNAQuZxtHIQ",
        "colab_type": "text"
      },
      "cell_type": "markdown",
      "source": [
        "###This tutorial is written by AbdElRhman ElMoghazy.\n",
        "\n",
        "### Refrences ,Textbooks and Tutorials :\n",
        "Hands on machine learning with scikit-learn and TensorFlow by Aurélien Géron\n",
        "\n",
        "Pyhron machine learning 2nd edition by Sebastian Raschka ,Vahid Mirjalili\n",
        "\n",
        "http://www.deeplearningbook.org/\n",
        "\n",
        "https://keras.io/\n",
        "\n",
        "https://machinelearningmastery.com/handwritten-digit-recognition-using-convolutional-neural-networks-python-keras/\n",
        "\n",
        "https://codelabs.developers.google.com/codelabs/cloud-tensorflow-mnist/index.html?index=..%2F..%2Findex#0"
      ]
    }
  ]
}