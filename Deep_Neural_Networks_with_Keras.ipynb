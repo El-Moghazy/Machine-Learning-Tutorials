{
  "nbformat": 4,
  "nbformat_minor": 0,
  "metadata": {
    "colab": {
      "name": "Deep Neural Networks with Keras.ipynb",
      "version": "0.3.2",
      "views": {},
      "default_view": {},
      "provenance": []
    },
    "kernelspec": {
      "name": "python3",
      "display_name": "Python 3"
    },
    "accelerator": "GPU"
  },
  "cells": [
    {
      "metadata": {
        "id": "eZsGESG14HEC",
        "colab_type": "text"
      },
      "cell_type": "markdown",
      "source": [
        "<h1>Deep Neural Networks with Keras</h1>\n",
        "In this tutorial I will explain how to classify the MNIST dataset using DNNs (Deep Neural Network). The code will be written using python with the help of Keras library which is a high level library and i am going to use TensorFlow as it's backend.\n",
        "\n",
        "  Now let's import Keras and some other useful libraries that we are gonna use later and also we will load the data from keras databases for later use."
      ]
    },
    {
      "metadata": {
        "id": "w3kXCMug4F9r",
        "colab_type": "code",
        "colab": {
          "autoexec": {
            "startup": false,
            "wait_interval": 0
          },
          "base_uri": "https://localhost:8080/",
          "height": 34
        },
        "outputId": "4a650219-4f51-4b1b-c6a7-a1df72e9a124",
        "executionInfo": {
          "status": "ok",
          "timestamp": 1530806450604,
          "user_tz": -120,
          "elapsed": 2263,
          "user": {
            "displayName": "Abd El Rhman ElMoghazy",
            "photoUrl": "https://lh3.googleusercontent.com/a/default-user=s128",
            "userId": "112798608963931725749"
          }
        }
      },
      "cell_type": "code",
      "source": [
        "import matplotlib.pyplot as plt\n",
        "from keras.datasets import mnist\n",
        "import numpy as np\n",
        "np.random.seed(0)\n",
        "\n",
        "(x_train, y_train), (x_test, y_test) = mnist.load_data()"
      ],
      "execution_count": 1,
      "outputs": [
        {
          "output_type": "stream",
          "text": [
            "Using TensorFlow backend.\n"
          ],
          "name": "stderr"
        }
      ]
    },
    {
      "metadata": {
        "id": "RJcvQysl6xz2",
        "colab_type": "text"
      },
      "cell_type": "markdown",
      "source": [
        "<h1>Data Exploration</h1>\n",
        "Let's explore the data we have as this will give us a hint on the algorithm we will use if we have to choose. Exploring data is also very important because it will tell you which accuracy metric you are going to use, if the data is balanced which means all the classes have fair contribution in the dataset regarding its numbers then we can easily use accuracy, But if the data is skewed then we won't be able to use accurace as it's results will be misleading and we may use F-beta score instead."
      ]
    },
    {
      "metadata": {
        "id": "qISzguL479UT",
        "colab_type": "code",
        "colab": {
          "autoexec": {
            "startup": false,
            "wait_interval": 0
          },
          "base_uri": "https://localhost:8080/",
          "height": 323
        },
        "outputId": "1f0ac568-3933-4e80-8961-3bc2a949d503",
        "executionInfo": {
          "status": "ok",
          "timestamp": 1530806452580,
          "user_tz": -120,
          "elapsed": 1944,
          "user": {
            "displayName": "Abd El Rhman ElMoghazy",
            "photoUrl": "https://lh3.googleusercontent.com/a/default-user=s128",
            "userId": "112798608963931725749"
          }
        }
      },
      "cell_type": "code",
      "source": [
        "print(\"the number of training examples = %i\" % x_train.shape[0])\n",
        "print(\"the number of classes = %i\" % len(np.unique(y_train)))\n",
        "print(\"Dimention of images = {:d} x {:d}  \".format(x_train[1].shape[0],x_train[1].shape[1])  )\n",
        "\n",
        "#This line will allow us to know the number of occurrences of each specific class in the data\n",
        "unique, count= np.unique(y_train, return_counts=True)\n",
        "print(\"The number of occuranc of each class in the dataset = %s \" % dict (zip(unique, count) ), \"\\n\" )\n",
        "\n",
        "#Normalizing the input dataset\n",
        "x_train = x_train / 255\n",
        "x_test = x_test / 255\n",
        " \n",
        "images_and_labels = list(zip(x_train,  y_train))\n",
        "for index, (image, label) in enumerate(images_and_labels[:12]):\n",
        "    plt.subplot(5, 4, index + 1)\n",
        "    plt.axis('off')\n",
        "    plt.imshow(image, cmap=plt.cm.gray_r, interpolation='nearest')\n",
        "    plt.title('label: %i' % label)"
      ],
      "execution_count": 2,
      "outputs": [
        {
          "output_type": "stream",
          "text": [
            "the number of training examples = 60000\n",
            "the number of classes = 10\n",
            "Dimention of images = 28 x 28  \n",
            "The number of occuranc of each class in the dataset = {0: 5923, 1: 6742, 2: 5958, 3: 6131, 4: 5842, 5: 5421, 6: 5918, 7: 6265, 8: 5851, 9: 5949}  \n",
            "\n"
          ],
          "name": "stdout"
        },
        {
          "output_type": "display_data",
          "data": {
            "image/png": "[encoded data removed]",
            "text/plain": [
              "<matplotlib.figure.Figure at 0x7f3dd645e780>"
            ]
          },
          "metadata": {
            "tags": []
          }
        }
      ]
    },
    {
      "metadata": {
        "id": "RSc6zzzPcI27",
        "colab_type": "text"
      },
      "cell_type": "markdown",
      "source": [
        "From the previous results we can see that the dataset consists of 60000 training example each is an image of dimention 28 * 28. We can see that the number of occurances of each class is almost balanced and based on that it is safe to use accuracy as our metric later."
      ]
    },
    {
      "metadata": {
        "id": "_L47xC5pc20Z",
        "colab_type": "text"
      },
      "cell_type": "markdown",
      "source": [
        "<h1>Algorithm Choice</h1>\n",
        "In this tutorial we will use the Deep Neural Networks Algorithm. Deep Neural Networks consists of a building block called the neuron. Each neural network consists of levels and each level consists of neurons. A neuron in the NN layer outputs discrete values for a classification task so it even fires or doesn't fire.\n",
        "![Deep Neural Network example](https://raw.githubusercontent.com/MoghazyCoder/Machine-Learning-Tutorials/master/Deep.png)\n",
        "\n",
        "Neurons uses the equation that determines whether or not it will fire. each neuron outputs the result from applying the function a(z) where a() is the activation function and z is the linear function WX + b and passes it to the next layer neurons. One of the mostly used activation function is the Relu function that is because it solves the problem of the exploding gradient, You can read more about that [here](https://machinelearningmastery.com/exploding-gradients-in-neural-networks/)."
      ]
    },
    {
      "metadata": {
        "id": "FoBmtygovCSD",
        "colab_type": "text"
      },
      "cell_type": "markdown",
      "source": [
        "<h1>Parameter and Model Selection</h1>\n",
        "Now Let's fit the model. We will make a sequential model which is a stack of layers, each layer passes the output to the next layer. we must reshape the input data to make the image a 1d vector instead to be able to pass it to the Deep Neural Network."
      ]
    },
    {
      "metadata": {
        "id": "i6HEF4bXc2Wa",
        "colab_type": "code",
        "colab": {
          "autoexec": {
            "startup": false,
            "wait_interval": 0
          },
          "base_uri": "https://localhost:8080/",
          "height": 51
        },
        "outputId": "0d26835c-8797-4ae3-e72a-12e9d7dd00c4",
        "executionInfo": {
          "status": "ok",
          "timestamp": 1530806453178,
          "user_tz": -120,
          "elapsed": 573,
          "user": {
            "displayName": "Abd El Rhman ElMoghazy",
            "photoUrl": "https://lh3.googleusercontent.com/a/default-user=s128",
            "userId": "112798608963931725749"
          }
        }
      },
      "cell_type": "code",
      "source": [
        "from keras.models import Sequential\n",
        "from keras.layers import Dense\n",
        "from keras.utils import np_utils\n",
        "\n",
        "#reshape the inputs\n",
        "x_train = x_train.reshape(-1, 784)\n",
        "x_test = x_test.reshape(-1, 784)\n",
        "\n",
        "print(x_train.shape )\n",
        "print(x_train.shape )\n",
        "\n",
        "\n",
        "#Makine the outputs 1-hot vector of 10 elements\n",
        "y_train = np_utils.to_categorical(y_train)\n",
        "y_test = np_utils.to_categorical(y_test)\n",
        "\n",
        "\n",
        "model = Sequential()\n",
        "model.add(Dense(units=1024, activation='relu', input_dim= 784 ) )\n",
        "model.add(Dense(units=1024, activation='relu' ))\n",
        "model.add(Dense(units=512, activation='relu'  ))\n",
        "model.add(Dense(units=512, activation='relu'  ))\n",
        "\n",
        "#and now the output layer which will have 10 units to\n",
        "#output a 1-hot vector to detect one of the 10 classes\n",
        "model.add(Dense(units=10, activation='softmax'))"
      ],
      "execution_count": 3,
      "outputs": [
        {
          "output_type": "stream",
          "text": [
            "(60000, 784)\n",
            "(60000, 784)\n"
          ],
          "name": "stdout"
        }
      ]
    },
    {
      "metadata": {
        "id": "6aODoDld8kEN",
        "colab_type": "text"
      },
      "cell_type": "markdown",
      "source": [
        "Let's configure the learning process and choose the suitable parameters.we will use [catagorical cross entropy as the loss finction](http://neuralnetworksanddeeplearning.com/chap3.html), adam optimizer which  is an efficient gradient descent algorithm that proved to work well and our performance metric will be the accuracy."
      ]
    },
    {
      "metadata": {
        "id": "0kpTIGDQ8qAh",
        "colab_type": "code",
        "colab": {
          "autoexec": {
            "startup": false,
            "wait_interval": 0
          }
        }
      },
      "cell_type": "code",
      "source": [
        "from keras import optimizers\n",
        "\n",
        "optimizer = optimizers.Adam(lr=0.002, beta_1=0.9, beta_2=0.999, epsilon=1e-08, decay=0.001)\n",
        "model.compile(loss='categorical_crossentropy', optimizer=optimizer, metrics=['accuracy'])"
      ],
      "execution_count": 0,
      "outputs": []
    },
    {
      "metadata": {
        "id": "GaXlA2t1lLKS",
        "colab_type": "text"
      },
      "cell_type": "markdown",
      "source": [
        "Now it is time to train the Network. We will use an early stopping function to stp the training if the validation loss doesn't change with patience of 50 epochs"
      ]
    },
    {
      "metadata": {
        "id": "hTMbslue9uJ8",
        "colab_type": "code",
        "colab": {
          "autoexec": {
            "startup": false,
            "wait_interval": 0
          },
          "base_uri": "https://localhost:8080/",
          "height": 1108
        },
        "outputId": "975270ac-5071-4339-8f42-49d98238185e",
        "executionInfo": {
          "status": "ok",
          "timestamp": 1530806582809,
          "user_tz": -120,
          "elapsed": 128991,
          "user": {
            "displayName": "Abd El Rhman ElMoghazy",
            "photoUrl": "https://lh3.googleusercontent.com/a/default-user=s128",
            "userId": "112798608963931725749"
          }
        }
      },
      "cell_type": "code",
      "source": [
        "from keras import callbacks\n",
        "earlystopping = callbacks.EarlyStopping(monitor='val_loss', min_delta=0, patience=50, verbose=0, mode='min')\n",
        "model.fit(x_train, y_train, epochs=30, batch_size=200, validation_split=0.2, verbose=1, callbacks=[earlystopping])"
      ],
      "execution_count": 5,
      "outputs": [
        {
          "output_type": "stream",
          "text": [
            "WARNING:tensorflow:Variable *= will be deprecated. Use variable.assign_mul if you want assignment to the variable value or 'x = x * y' if you want a new python Tensor object.\n",
            "Train on 48000 samples, validate on 12000 samples\n",
            "Epoch 1/30\n",
            "48000/48000 [==============================] - 6s 119us/step - loss: 0.2443 - acc: 0.9240 - val_loss: 0.1284 - val_acc: 0.9641\n",
            "Epoch 2/30\n",
            "48000/48000 [==============================] - 4s 87us/step - loss: 0.0890 - acc: 0.9736 - val_loss: 0.1091 - val_acc: 0.9709\n",
            "Epoch 3/30\n",
            "48000/48000 [==============================] - 4s 89us/step - loss: 0.0521 - acc: 0.9847 - val_loss: 0.0910 - val_acc: 0.9728\n",
            "Epoch 4/30\n",
            " 5600/48000 [==>...........................] - ETA: 3s - loss: 0.0285 - acc: 0.9916"
          ],
          "name": "stdout"
        },
        {
          "output_type": "stream",
          "text": [
            "48000/48000 [==============================] - 4s 90us/step - loss: 0.0339 - acc: 0.9895 - val_loss: 0.1037 - val_acc: 0.9745\n",
            "Epoch 5/30\n",
            "48000/48000 [==============================] - 5s 94us/step - loss: 0.0270 - acc: 0.9916 - val_loss: 0.1038 - val_acc: 0.9749\n",
            "Epoch 6/30\n",
            "48000/48000 [==============================] - 4s 89us/step - loss: 0.0167 - acc: 0.9948 - val_loss: 0.0950 - val_acc: 0.9776\n",
            "Epoch 7/30\n",
            "48000/48000 [==============================] - 4s 91us/step - loss: 0.0136 - acc: 0.9962 - val_loss: 0.0939 - val_acc: 0.9798\n",
            "Epoch 8/30\n",
            "17200/48000 [=========>....................] - ETA: 2s - loss: 0.0081 - acc: 0.9976"
          ],
          "name": "stdout"
        },
        {
          "output_type": "stream",
          "text": [
            "48000/48000 [==============================] - 5s 94us/step - loss: 0.0109 - acc: 0.9964 - val_loss: 0.1062 - val_acc: 0.9777\n",
            "Epoch 9/30\n",
            "48000/48000 [==============================] - 4s 88us/step - loss: 0.0078 - acc: 0.9973 - val_loss: 0.0997 - val_acc: 0.9803\n",
            "Epoch 10/30\n",
            "48000/48000 [==============================] - 4s 88us/step - loss: 0.0047 - acc: 0.9984 - val_loss: 0.1014 - val_acc: 0.9803\n",
            "Epoch 11/30\n",
            "48000/48000 [==============================] - 4s 85us/step - loss: 0.0043 - acc: 0.9988 - val_loss: 0.1145 - val_acc: 0.9792\n",
            "Epoch 12/30\n",
            "24000/48000 [==============>...............] - ETA: 2s - loss: 0.0070 - acc: 0.9982"
          ],
          "name": "stdout"
        },
        {
          "output_type": "stream",
          "text": [
            "48000/48000 [==============================] - 4s 90us/step - loss: 0.0056 - acc: 0.9984 - val_loss: 0.1207 - val_acc: 0.9793\n",
            "Epoch 13/30\n",
            "48000/48000 [==============================] - 4s 86us/step - loss: 0.0042 - acc: 0.9985 - val_loss: 0.0962 - val_acc: 0.9810\n",
            "Epoch 14/30\n",
            "48000/48000 [==============================] - 4s 87us/step - loss: 0.0043 - acc: 0.9986 - val_loss: 0.1255 - val_acc: 0.9778\n",
            "Epoch 15/30\n",
            "48000/48000 [==============================] - 4s 89us/step - loss: 0.0020 - acc: 0.9994 - val_loss: 0.1006 - val_acc: 0.9822\n",
            "Epoch 16/30\n",
            "27000/48000 [===============>..............] - ETA: 1s - loss: 8.0114e-04 - acc: 0.9999"
          ],
          "name": "stdout"
        },
        {
          "output_type": "stream",
          "text": [
            "48000/48000 [==============================] - 4s 88us/step - loss: 6.2554e-04 - acc: 0.9999 - val_loss: 0.1028 - val_acc: 0.9828\n",
            "Epoch 17/30\n",
            "48000/48000 [==============================] - 4s 87us/step - loss: 7.7500e-05 - acc: 1.0000 - val_loss: 0.1057 - val_acc: 0.9828\n",
            "Epoch 18/30\n",
            "48000/48000 [==============================] - 4s 86us/step - loss: 2.0604e-05 - acc: 1.0000 - val_loss: 0.1077 - val_acc: 0.9828\n",
            "Epoch 19/30\n",
            "48000/48000 [==============================] - 4s 87us/step - loss: 1.3352e-05 - acc: 1.0000 - val_loss: 0.1115 - val_acc: 0.9830\n",
            "Epoch 20/30\n",
            "25200/48000 [==============>...............] - ETA: 1s - loss: 9.2159e-06 - acc: 1.0000"
          ],
          "name": "stdout"
        },
        {
          "output_type": "stream",
          "text": [
            "48000/48000 [==============================] - 4s 85us/step - loss: 8.1608e-06 - acc: 1.0000 - val_loss: 0.1158 - val_acc: 0.9832\n",
            "Epoch 21/30\n",
            "48000/48000 [==============================] - 4s 88us/step - loss: 5.1600e-06 - acc: 1.0000 - val_loss: 0.1196 - val_acc: 0.9831\n",
            "Epoch 22/30\n",
            "48000/48000 [==============================] - 4s 88us/step - loss: 3.5717e-06 - acc: 1.0000 - val_loss: 0.1224 - val_acc: 0.9833\n",
            "Epoch 23/30\n",
            "48000/48000 [==============================] - 4s 86us/step - loss: 2.6800e-06 - acc: 1.0000 - val_loss: 0.1247 - val_acc: 0.9833\n",
            "Epoch 24/30\n",
            "23000/48000 [=============>................] - ETA: 1s - loss: 2.0880e-06 - acc: 1.0000"
          ],
          "name": "stdout"
        },
        {
          "output_type": "stream",
          "text": [
            "48000/48000 [==============================] - 4s 85us/step - loss: 2.1315e-06 - acc: 1.0000 - val_loss: 0.1266 - val_acc: 0.9833\n",
            "Epoch 25/30\n",
            "48000/48000 [==============================] - 4s 86us/step - loss: 1.7541e-06 - acc: 1.0000 - val_loss: 0.1281 - val_acc: 0.9833\n",
            "Epoch 26/30\n",
            "48000/48000 [==============================] - 4s 85us/step - loss: 1.4878e-06 - acc: 1.0000 - val_loss: 0.1295 - val_acc: 0.9832\n",
            "Epoch 27/30\n",
            "48000/48000 [==============================] - 4s 84us/step - loss: 1.2798e-06 - acc: 1.0000 - val_loss: 0.1305 - val_acc: 0.9832\n",
            "Epoch 28/30\n",
            "25200/48000 [==============>...............] - ETA: 1s - loss: 1.0388e-06 - acc: 1.0000"
          ],
          "name": "stdout"
        },
        {
          "output_type": "stream",
          "text": [
            "48000/48000 [==============================] - 4s 86us/step - loss: 1.1199e-06 - acc: 1.0000 - val_loss: 0.1314 - val_acc: 0.9833\n",
            "Epoch 29/30\n",
            "48000/48000 [==============================] - 4s 89us/step - loss: 9.9564e-07 - acc: 1.0000 - val_loss: 0.1323 - val_acc: 0.9834\n",
            "Epoch 30/30\n",
            "48000/48000 [==============================] - 4s 85us/step - loss: 8.9254e-07 - acc: 1.0000 - val_loss: 0.1331 - val_acc: 0.9834\n"
          ],
          "name": "stdout"
        },
        {
          "output_type": "execute_result",
          "data": {
            "text/plain": [
              "<keras.callbacks.History at 0x7f3dd2e90630>"
            ]
          },
          "metadata": {
            "tags": []
          },
          "execution_count": 5
        }
      ]
    },
    {
      "metadata": {
        "id": "qlka9aQkD4Nl",
        "colab_type": "text"
      },
      "cell_type": "markdown",
      "source": [
        "Now we should evaluate the model on the test set"
      ]
    },
    {
      "metadata": {
        "id": "vGjhPdAbD7wB",
        "colab_type": "code",
        "colab": {
          "autoexec": {
            "startup": false,
            "wait_interval": 0
          },
          "base_uri": "https://localhost:8080/",
          "height": 51
        },
        "outputId": "78000d9f-fd82-4442-a3a1-faae0262d870",
        "executionInfo": {
          "status": "ok",
          "timestamp": 1530806583605,
          "user_tz": -120,
          "elapsed": 743,
          "user": {
            "displayName": "Abd El Rhman ElMoghazy",
            "photoUrl": "https://lh3.googleusercontent.com/a/default-user=s128",
            "userId": "112798608963931725749"
          }
        }
      },
      "cell_type": "code",
      "source": [
        "print (\"Test Accuracy when evaluated on the X_test and the y test = %f\"% (model.evaluate(x_test, y_test, batch_size=128)[1]*100), \"%\" )"
      ],
      "execution_count": 6,
      "outputs": [
        {
          "output_type": "stream",
          "text": [
            "10000/10000 [==============================] - 0s 30us/step\n",
            "Test Accuracy when evaluated on the X_test and the y test = 98.530000 %\n"
          ],
          "name": "stdout"
        }
      ]
    }
  ]
}